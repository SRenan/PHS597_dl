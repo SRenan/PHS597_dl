{
 "cells": [
  {
   "cell_type": "code",
   "execution_count": 1,
   "metadata": {
    "scrolled": true
   },
   "outputs": [
    {
     "name": "stdout",
     "output_type": "stream",
     "text": [
      "(60000, 28, 28)\n",
      "(60000,)\n"
     ]
    }
   ],
   "source": [
    "import tensorflow as tf\n",
    "import matplotlib.pyplot as plt\n",
    "import matplotlib.image as mpimg\n",
    "import tensorflow.keras as keras\n",
    "import numpy as np\n",
    "path = '/home/srenan/workspace/jupyter/data/mnist.npz'\n",
    "(train_images, train_labels), (test_images, test_labels) = tf.keras.datasets.mnist.load_data(path)\n",
    "print(train_images.shape)\n",
    "print(train_labels.shape)\n",
    "fig, axs = plt.subplots(2,2)\n",
    "for ii in np.arange(0,2):\n",
    "    for jj in np.arange(0,2):\n",
    "        axs[ii,jj].imshow(train_images[ii*2+jj,:,:])\n",
    "        axs[ii,jj].title.set_text(train_labels[ii*2+jj])\n",
    "##print(range(0,2))\n",
    "##plt.show()"
   ]
  },
  {
   "cell_type": "code",
   "execution_count": 2,
   "metadata": {},
   "outputs": [
    {
     "name": "stderr",
     "output_type": "stream",
     "text": [
      "Using TensorFlow backend.\n"
     ]
    }
   ],
   "source": [
    "from keras import models\n",
    "from keras import layers\n",
    "network = models.Sequential()\n",
    "network.add(layers.Dense(512, activation='relu', input_shape=(28 * 28,)))\n",
    "network.add(layers.Dense(10, activation='softmax'))"
   ]
  },
  {
   "cell_type": "code",
   "execution_count": 3,
   "metadata": {},
   "outputs": [],
   "source": [
    "network.compile(optimizer='rmsprop',\n",
    "loss='categorical_crossentropy',\n",
    "metrics=['accuracy'])"
   ]
  },
  {
   "cell_type": "code",
   "execution_count": 4,
   "metadata": {},
   "outputs": [],
   "source": [
    "train_images = train_images.reshape((60000, 28 * 28)) #Reshape in a vector\n",
    "train_images = train_images.astype('float32') / 255 #Standardize 0-1 using the range of the data 0-254\n",
    "test_images = test_images.reshape((10000, 28 * 28))\n",
    "test_images = test_images.astype('float32') / 255"
   ]
  },
  {
   "cell_type": "code",
   "execution_count": 5,
   "metadata": {},
   "outputs": [],
   "source": [
    "from keras.utils import to_categorical\n",
    "train_labels = to_categorical(train_labels)\n",
    "test_labels = to_categorical(test_labels)"
   ]
  },
  {
   "cell_type": "code",
   "execution_count": 6,
   "metadata": {},
   "outputs": [
    {
     "name": "stdout",
     "output_type": "stream",
     "text": [
      "Epoch 1/5\n",
      "60000/60000 [==============================] - 7s 113us/step - loss: 0.2600 - accuracy: 0.9238\n",
      "Epoch 2/5\n",
      "60000/60000 [==============================] - 5s 76us/step - loss: 0.1027 - accuracy: 0.9697\n",
      "Epoch 3/5\n",
      "60000/60000 [==============================] - 5s 85us/step - loss: 0.0681 - accuracy: 0.9793\n",
      "Epoch 4/5\n",
      "60000/60000 [==============================] - 5s 84us/step - loss: 0.0490 - accuracy: 0.9858\n",
      "Epoch 5/5\n",
      "60000/60000 [==============================] - 5s 81us/step - loss: 0.0368 - accuracy: 0.9889\n"
     ]
    },
    {
     "data": {
      "text/plain": [
       "<keras.callbacks.callbacks.History at 0x7fb3e0119390>"
      ]
     },
     "execution_count": 6,
     "metadata": {},
     "output_type": "execute_result"
    }
   ],
   "source": [
    "network.fit(train_images, train_labels, epochs=5, batch_size=128)"
   ]
  },
  {
   "cell_type": "code",
   "execution_count": 7,
   "metadata": {
    "scrolled": true
   },
   "outputs": [
    {
     "name": "stdout",
     "output_type": "stream",
     "text": [
      "10000/10000 [==============================] - 1s 75us/step\n",
      "0.9781000018119812\n"
     ]
    }
   ],
   "source": [
    "test_loss, test_acc = network.evaluate(test_images, test_labels)\n",
    "print(test_acc)"
   ]
  },
  {
   "cell_type": "code",
   "execution_count": 8,
   "metadata": {},
   "outputs": [],
   "source": [
    "# Dataset subsetting/reshaping\n",
    "sstraini = train_images[0:100]\n",
    "sstrainl = train_labels[0:100]\n",
    "# SVM/AdaBoost do not use OHE for the labels -> coerce into ints\n",
    "sstrainl_int = [np.where(r==1)[0][0] for r in sstrainl]\n",
    "trainl_int = [np.where(r==1)[0][0] for r in train_labels]\n",
    "testl_int = [np.where(r==1)[0][0] for r in test_labels]"
   ]
  },
  {
   "cell_type": "code",
   "execution_count": 9,
   "metadata": {},
   "outputs": [],
   "source": [
    "# Random forrest\n",
    "from sklearn.ensemble import RandomForestRegressor\n",
    "rf = RandomForestRegressor(n_estimators = 10, random_state = 42)\n",
    "rf.fit(sstraini, sstrainl)\n",
    "predRF = rf.predict(test_images)"
   ]
  },
  {
   "cell_type": "code",
   "execution_count": 10,
   "metadata": {},
   "outputs": [],
   "source": [
    "# SVC: Support Vector Classification\n",
    "from sklearn import svm\n",
    "svc = svm.SVC()\n",
    "svc.fit(sstraini, sstrainl_int)\n",
    "predSVC = svc.predict(test_images)"
   ]
  },
  {
   "cell_type": "code",
   "execution_count": 11,
   "metadata": {},
   "outputs": [],
   "source": [
    "# AdaBoost\n",
    "from sklearn.ensemble import AdaBoostClassifier\n",
    "abc = AdaBoostClassifier(n_estimators = 50, learning_rate = 1)\n",
    "abc.fit(train_images, trainl_int)\n",
    "predADA = abc.predict(test_images)"
   ]
  },
  {
   "cell_type": "code",
   "execution_count": 12,
   "metadata": {},
   "outputs": [
    {
     "name": "stdout",
     "output_type": "stream",
     "text": [
      "Neural Net: 0.978\n",
      "Random Forest: 0.332\n",
      "Multi-class SVM: 0.656\n",
      "AdaBoost: 0.73\n"
     ]
    }
   ],
   "source": [
    "# Summary\n",
    "from sklearn.metrics import r2_score\n",
    "accNN = round(test_acc, 3)\n",
    "accRF = round(r2_score(test_labels, predRF), 3) #score method works but throws warnings\n",
    "accSVM = round(svc.score(test_images, testl_int), 3)\n",
    "accABC = round(abc.score(test_images, testl_int), 3)\n",
    "print(\"Neural Net:\", accNN)\n",
    "print(\"Random Forest:\", accRF)\n",
    "print(\"Multi-class SVM:\", accSVM)\n",
    "print(\"AdaBoost:\", accABC)"
   ]
  },
  {
   "cell_type": "code",
   "execution_count": 13,
   "metadata": {
    "scrolled": true
   },
   "outputs": [],
   "source": [
    "# Attempt to see where errors are\n",
    "index0 = [ i for i in range(len(testl_int)) if testl_int[i] == 0 ]\n",
    "index1 = [ i for i in range(len(testl_int)) if testl_int[i] == 1 ]\n",
    "index2 = [ i for i in range(len(testl_int)) if testl_int[i] == 2 ]\n",
    "index3 = [ i for i in range(len(testl_int)) if testl_int[i] == 3 ]\n",
    "index4 = [ i for i in range(len(testl_int)) if testl_int[i] == 4 ]\n",
    "index5 = [ i for i in range(len(testl_int)) if testl_int[i] == 5 ]\n",
    "index6 = [ i for i in range(len(testl_int)) if testl_int[i] == 6 ]\n",
    "index7 = [ i for i in range(len(testl_int)) if testl_int[i] == 7 ]\n",
    "index8 = [ i for i in range(len(testl_int)) if testl_int[i] == 8 ]\n",
    "index9 = [ i for i in range(len(testl_int)) if testl_int[i] == 9 ]\n",
    "label_dict = {'i0':index0, 'i1':index1, 'i2':index2, 'i3':index3, 'i4':index4, 'i5':index5, 'i6':index6, 'i7':index7, 'i8':index8, 'i9':index9}\n",
    "# Predictions\n",
    "rf_dict = {'i0' : list(), 'i1' : list(), 'i2' : list(), 'i3' : list(), 'i4' : list(), 'i5' : list(), 'i6' : list(), 'i7' : list(), 'i8' : list(), 'i9' : list()}\n",
    "svc_dict = {'i0' : list(), 'i1' : list(), 'i2' : list(), 'i3' : list(), 'i4' : list(), 'i5' : list(), 'i6' : list(), 'i7' : list(), 'i8' : list(), 'i9' : list()}\n",
    "ada_dict = {'i0' : list(), 'i1' : list(), 'i2' : list(), 'i3' : list(), 'i4' : list(), 'i5' : list(), 'i6' : list(), 'i7' : list(), 'i8' : list(), 'i9' : list()}\n",
    "\n",
    "for i in ['i0','i1','i2','i3','i4','i5','i6','i7','i8','i9']:\n",
    "    for j in range(0,10):\n",
    "        rf_dict[i].append(sum(predRF[label_dict[i]] == j))\n",
    "        svc_dict[i].append(sum(predSVC[label_dict[i]] == j))\n",
    "        ada_dict[i].append(sum(predADA[label_dict[i]] == j))\n"
   ]
  },
  {
   "cell_type": "code",
   "execution_count": 14,
   "metadata": {},
   "outputs": [
    {
     "name": "stdout",
     "output_type": "stream",
     "text": [
      "Random Forest:\n"
     ]
    }
   ],
   "source": [
    "import pandas as pd\n",
    "# Column sums are total number of true_labels\n",
    "# Row sums are total predicted for each label\n",
    "print(\"Random Forest:\")\n",
    "#pd.DataFrame.from_dict(rf_dict)"
   ]
  },
  {
   "cell_type": "code",
   "execution_count": 15,
   "metadata": {},
   "outputs": [
    {
     "name": "stdout",
     "output_type": "stream",
     "text": [
      "SVM:\n"
     ]
    },
    {
     "data": {
      "text/html": [
       "<div>\n",
       "<style scoped>\n",
       "    .dataframe tbody tr th:only-of-type {\n",
       "        vertical-align: middle;\n",
       "    }\n",
       "\n",
       "    .dataframe tbody tr th {\n",
       "        vertical-align: top;\n",
       "    }\n",
       "\n",
       "    .dataframe thead th {\n",
       "        text-align: right;\n",
       "    }\n",
       "</style>\n",
       "<table border=\"1\" class=\"dataframe\">\n",
       "  <thead>\n",
       "    <tr style=\"text-align: right;\">\n",
       "      <th></th>\n",
       "      <th>i0</th>\n",
       "      <th>i1</th>\n",
       "      <th>i2</th>\n",
       "      <th>i3</th>\n",
       "      <th>i4</th>\n",
       "      <th>i5</th>\n",
       "      <th>i6</th>\n",
       "      <th>i7</th>\n",
       "      <th>i8</th>\n",
       "      <th>i9</th>\n",
       "    </tr>\n",
       "  </thead>\n",
       "  <tbody>\n",
       "    <tr>\n",
       "      <th>0</th>\n",
       "      <td>876</td>\n",
       "      <td>0</td>\n",
       "      <td>14</td>\n",
       "      <td>16</td>\n",
       "      <td>1</td>\n",
       "      <td>57</td>\n",
       "      <td>19</td>\n",
       "      <td>1</td>\n",
       "      <td>58</td>\n",
       "      <td>13</td>\n",
       "    </tr>\n",
       "    <tr>\n",
       "      <th>1</th>\n",
       "      <td>1</td>\n",
       "      <td>1112</td>\n",
       "      <td>230</td>\n",
       "      <td>34</td>\n",
       "      <td>16</td>\n",
       "      <td>33</td>\n",
       "      <td>34</td>\n",
       "      <td>61</td>\n",
       "      <td>71</td>\n",
       "      <td>13</td>\n",
       "    </tr>\n",
       "    <tr>\n",
       "      <th>2</th>\n",
       "      <td>4</td>\n",
       "      <td>0</td>\n",
       "      <td>511</td>\n",
       "      <td>17</td>\n",
       "      <td>0</td>\n",
       "      <td>3</td>\n",
       "      <td>7</td>\n",
       "      <td>9</td>\n",
       "      <td>51</td>\n",
       "      <td>1</td>\n",
       "    </tr>\n",
       "    <tr>\n",
       "      <th>3</th>\n",
       "      <td>2</td>\n",
       "      <td>4</td>\n",
       "      <td>24</td>\n",
       "      <td>881</td>\n",
       "      <td>2</td>\n",
       "      <td>385</td>\n",
       "      <td>5</td>\n",
       "      <td>15</td>\n",
       "      <td>145</td>\n",
       "      <td>30</td>\n",
       "    </tr>\n",
       "    <tr>\n",
       "      <th>4</th>\n",
       "      <td>54</td>\n",
       "      <td>3</td>\n",
       "      <td>195</td>\n",
       "      <td>16</td>\n",
       "      <td>828</td>\n",
       "      <td>235</td>\n",
       "      <td>258</td>\n",
       "      <td>45</td>\n",
       "      <td>128</td>\n",
       "      <td>398</td>\n",
       "    </tr>\n",
       "    <tr>\n",
       "      <th>5</th>\n",
       "      <td>1</td>\n",
       "      <td>0</td>\n",
       "      <td>0</td>\n",
       "      <td>0</td>\n",
       "      <td>0</td>\n",
       "      <td>61</td>\n",
       "      <td>1</td>\n",
       "      <td>0</td>\n",
       "      <td>0</td>\n",
       "      <td>0</td>\n",
       "    </tr>\n",
       "    <tr>\n",
       "      <th>6</th>\n",
       "      <td>24</td>\n",
       "      <td>2</td>\n",
       "      <td>7</td>\n",
       "      <td>1</td>\n",
       "      <td>13</td>\n",
       "      <td>21</td>\n",
       "      <td>631</td>\n",
       "      <td>0</td>\n",
       "      <td>12</td>\n",
       "      <td>1</td>\n",
       "    </tr>\n",
       "    <tr>\n",
       "      <th>7</th>\n",
       "      <td>4</td>\n",
       "      <td>0</td>\n",
       "      <td>16</td>\n",
       "      <td>5</td>\n",
       "      <td>1</td>\n",
       "      <td>14</td>\n",
       "      <td>0</td>\n",
       "      <td>725</td>\n",
       "      <td>4</td>\n",
       "      <td>26</td>\n",
       "    </tr>\n",
       "    <tr>\n",
       "      <th>8</th>\n",
       "      <td>1</td>\n",
       "      <td>14</td>\n",
       "      <td>25</td>\n",
       "      <td>24</td>\n",
       "      <td>0</td>\n",
       "      <td>17</td>\n",
       "      <td>0</td>\n",
       "      <td>16</td>\n",
       "      <td>410</td>\n",
       "      <td>3</td>\n",
       "    </tr>\n",
       "    <tr>\n",
       "      <th>9</th>\n",
       "      <td>13</td>\n",
       "      <td>0</td>\n",
       "      <td>10</td>\n",
       "      <td>16</td>\n",
       "      <td>121</td>\n",
       "      <td>66</td>\n",
       "      <td>3</td>\n",
       "      <td>156</td>\n",
       "      <td>95</td>\n",
       "      <td>524</td>\n",
       "    </tr>\n",
       "  </tbody>\n",
       "</table>\n",
       "</div>"
      ],
      "text/plain": [
       "    i0    i1   i2   i3   i4   i5   i6   i7   i8   i9\n",
       "0  876     0   14   16    1   57   19    1   58   13\n",
       "1    1  1112  230   34   16   33   34   61   71   13\n",
       "2    4     0  511   17    0    3    7    9   51    1\n",
       "3    2     4   24  881    2  385    5   15  145   30\n",
       "4   54     3  195   16  828  235  258   45  128  398\n",
       "5    1     0    0    0    0   61    1    0    0    0\n",
       "6   24     2    7    1   13   21  631    0   12    1\n",
       "7    4     0   16    5    1   14    0  725    4   26\n",
       "8    1    14   25   24    0   17    0   16  410    3\n",
       "9   13     0   10   16  121   66    3  156   95  524"
      ]
     },
     "execution_count": 15,
     "metadata": {},
     "output_type": "execute_result"
    }
   ],
   "source": [
    "print(\"SVM:\")\n",
    "pd.DataFrame.from_dict(svc_dict)"
   ]
  },
  {
   "cell_type": "code",
   "execution_count": 16,
   "metadata": {},
   "outputs": [
    {
     "name": "stdout",
     "output_type": "stream",
     "text": [
      "AdaBoost:\n"
     ]
    },
    {
     "data": {
      "text/html": [
       "<div>\n",
       "<style scoped>\n",
       "    .dataframe tbody tr th:only-of-type {\n",
       "        vertical-align: middle;\n",
       "    }\n",
       "\n",
       "    .dataframe tbody tr th {\n",
       "        vertical-align: top;\n",
       "    }\n",
       "\n",
       "    .dataframe thead th {\n",
       "        text-align: right;\n",
       "    }\n",
       "</style>\n",
       "<table border=\"1\" class=\"dataframe\">\n",
       "  <thead>\n",
       "    <tr style=\"text-align: right;\">\n",
       "      <th></th>\n",
       "      <th>i0</th>\n",
       "      <th>i1</th>\n",
       "      <th>i2</th>\n",
       "      <th>i3</th>\n",
       "      <th>i4</th>\n",
       "      <th>i5</th>\n",
       "      <th>i6</th>\n",
       "      <th>i7</th>\n",
       "      <th>i8</th>\n",
       "      <th>i9</th>\n",
       "    </tr>\n",
       "  </thead>\n",
       "  <tbody>\n",
       "    <tr>\n",
       "      <th>0</th>\n",
       "      <td>883</td>\n",
       "      <td>0</td>\n",
       "      <td>30</td>\n",
       "      <td>28</td>\n",
       "      <td>4</td>\n",
       "      <td>29</td>\n",
       "      <td>20</td>\n",
       "      <td>7</td>\n",
       "      <td>40</td>\n",
       "      <td>9</td>\n",
       "    </tr>\n",
       "    <tr>\n",
       "      <th>1</th>\n",
       "      <td>0</td>\n",
       "      <td>1070</td>\n",
       "      <td>35</td>\n",
       "      <td>32</td>\n",
       "      <td>2</td>\n",
       "      <td>32</td>\n",
       "      <td>10</td>\n",
       "      <td>16</td>\n",
       "      <td>48</td>\n",
       "      <td>11</td>\n",
       "    </tr>\n",
       "    <tr>\n",
       "      <th>2</th>\n",
       "      <td>25</td>\n",
       "      <td>3</td>\n",
       "      <td>596</td>\n",
       "      <td>19</td>\n",
       "      <td>17</td>\n",
       "      <td>6</td>\n",
       "      <td>35</td>\n",
       "      <td>23</td>\n",
       "      <td>11</td>\n",
       "      <td>23</td>\n",
       "    </tr>\n",
       "    <tr>\n",
       "      <th>3</th>\n",
       "      <td>3</td>\n",
       "      <td>8</td>\n",
       "      <td>32</td>\n",
       "      <td>678</td>\n",
       "      <td>14</td>\n",
       "      <td>122</td>\n",
       "      <td>6</td>\n",
       "      <td>8</td>\n",
       "      <td>91</td>\n",
       "      <td>32</td>\n",
       "    </tr>\n",
       "    <tr>\n",
       "      <th>4</th>\n",
       "      <td>4</td>\n",
       "      <td>3</td>\n",
       "      <td>18</td>\n",
       "      <td>2</td>\n",
       "      <td>708</td>\n",
       "      <td>27</td>\n",
       "      <td>26</td>\n",
       "      <td>14</td>\n",
       "      <td>15</td>\n",
       "      <td>161</td>\n",
       "    </tr>\n",
       "    <tr>\n",
       "      <th>5</th>\n",
       "      <td>28</td>\n",
       "      <td>1</td>\n",
       "      <td>8</td>\n",
       "      <td>92</td>\n",
       "      <td>16</td>\n",
       "      <td>526</td>\n",
       "      <td>32</td>\n",
       "      <td>7</td>\n",
       "      <td>34</td>\n",
       "      <td>18</td>\n",
       "    </tr>\n",
       "    <tr>\n",
       "      <th>6</th>\n",
       "      <td>23</td>\n",
       "      <td>4</td>\n",
       "      <td>208</td>\n",
       "      <td>30</td>\n",
       "      <td>10</td>\n",
       "      <td>22</td>\n",
       "      <td>822</td>\n",
       "      <td>1</td>\n",
       "      <td>22</td>\n",
       "      <td>1</td>\n",
       "    </tr>\n",
       "    <tr>\n",
       "      <th>7</th>\n",
       "      <td>3</td>\n",
       "      <td>25</td>\n",
       "      <td>25</td>\n",
       "      <td>33</td>\n",
       "      <td>80</td>\n",
       "      <td>19</td>\n",
       "      <td>1</td>\n",
       "      <td>804</td>\n",
       "      <td>18</td>\n",
       "      <td>169</td>\n",
       "    </tr>\n",
       "    <tr>\n",
       "      <th>8</th>\n",
       "      <td>3</td>\n",
       "      <td>21</td>\n",
       "      <td>75</td>\n",
       "      <td>74</td>\n",
       "      <td>35</td>\n",
       "      <td>71</td>\n",
       "      <td>6</td>\n",
       "      <td>20</td>\n",
       "      <td>661</td>\n",
       "      <td>34</td>\n",
       "    </tr>\n",
       "    <tr>\n",
       "      <th>9</th>\n",
       "      <td>8</td>\n",
       "      <td>0</td>\n",
       "      <td>5</td>\n",
       "      <td>22</td>\n",
       "      <td>96</td>\n",
       "      <td>38</td>\n",
       "      <td>0</td>\n",
       "      <td>128</td>\n",
       "      <td>34</td>\n",
       "      <td>551</td>\n",
       "    </tr>\n",
       "  </tbody>\n",
       "</table>\n",
       "</div>"
      ],
      "text/plain": [
       "    i0    i1   i2   i3   i4   i5   i6   i7   i8   i9\n",
       "0  883     0   30   28    4   29   20    7   40    9\n",
       "1    0  1070   35   32    2   32   10   16   48   11\n",
       "2   25     3  596   19   17    6   35   23   11   23\n",
       "3    3     8   32  678   14  122    6    8   91   32\n",
       "4    4     3   18    2  708   27   26   14   15  161\n",
       "5   28     1    8   92   16  526   32    7   34   18\n",
       "6   23     4  208   30   10   22  822    1   22    1\n",
       "7    3    25   25   33   80   19    1  804   18  169\n",
       "8    3    21   75   74   35   71    6   20  661   34\n",
       "9    8     0    5   22   96   38    0  128   34  551"
      ]
     },
     "execution_count": 16,
     "metadata": {},
     "output_type": "execute_result"
    }
   ],
   "source": [
    "print(\"AdaBoost:\")\n",
    "pd.DataFrame.from_dict(ada_dict)"
   ]
  }
 ],
 "metadata": {
  "kernelspec": {
   "display_name": "Python 3",
   "language": "python",
   "name": "python3"
  },
  "language_info": {
   "codemirror_mode": {
    "name": "ipython",
    "version": 3
   },
   "file_extension": ".py",
   "mimetype": "text/x-python",
   "name": "python",
   "nbconvert_exporter": "python",
   "pygments_lexer": "ipython3",
   "version": "3.6.9"
  }
 },
 "nbformat": 4,
 "nbformat_minor": 2
}

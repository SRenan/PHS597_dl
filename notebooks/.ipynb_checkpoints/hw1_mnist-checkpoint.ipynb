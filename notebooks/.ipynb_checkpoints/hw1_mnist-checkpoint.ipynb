{
 "cells": [
  {
   "cell_type": "code",
   "execution_count": 1,
   "metadata": {
    "scrolled": true
   },
   "outputs": [
    {
     "name": "stdout",
     "output_type": "stream",
     "text": [
      "(60000, 28, 28)\n",
      "(60000,)\n"
     ]
    }
   ],
   "source": [
    "import tensorflow as tf\n",
    "import matplotlib.pyplot as plt\n",
    "import matplotlib.image as mpimg\n",
    "import tensorflow.keras as keras\n",
    "import numpy as np\n",
    "path = '/home/srenan/workspace/jupyter/data/mnist.npz'\n",
    "(train_images, train_labels), (test_images, test_labels) = tf.keras.datasets.mnist.load_data(path)\n",
    "print(train_images.shape)\n",
    "print(train_labels.shape)\n",
    "fig, axs = plt.subplots(2,2)\n",
    "for ii in np.arange(0,2):\n",
    "    for jj in np.arange(0,2):\n",
    "        axs[ii,jj].imshow(train_images[ii*2+jj,:,:])\n",
    "        axs[ii,jj].title.set_text(train_labels[ii*2+jj])\n",
    "##print(range(0,2))\n",
    "##plt.show()"
   ]
  },
  {
   "cell_type": "code",
   "execution_count": 2,
   "metadata": {},
   "outputs": [
    {
     "name": "stderr",
     "output_type": "stream",
     "text": [
      "Using TensorFlow backend.\n"
     ]
    }
   ],
   "source": [
    "from keras import models\n",
    "from keras import layers\n",
    "network = models.Sequential()\n",
    "network.add(layers.Dense(512, activation='relu', input_shape=(28 * 28,)))\n",
    "network.add(layers.Dense(10, activation='softmax'))"
   ]
  },
  {
   "cell_type": "code",
   "execution_count": 3,
   "metadata": {},
   "outputs": [],
   "source": [
    "network.compile(optimizer='rmsprop',\n",
    "loss='categorical_crossentropy',\n",
    "metrics=['accuracy'])"
   ]
  },
  {
   "cell_type": "code",
   "execution_count": 4,
   "metadata": {},
   "outputs": [],
   "source": [
    "train_images = train_images.reshape((60000, 28 * 28)) #Reshape in a vector\n",
    "train_images = train_images.astype('float32') / 255 #Standardize 0-1 using the range of the data 0-254\n",
    "test_images = test_images.reshape((10000, 28 * 28))\n",
    "test_images = test_images.astype('float32') / 255"
   ]
  },
  {
   "cell_type": "code",
   "execution_count": 5,
   "metadata": {},
   "outputs": [],
   "source": [
    "from keras.utils import to_categorical\n",
    "train_labels = to_categorical(train_labels)\n",
    "test_labels = to_categorical(test_labels)"
   ]
  },
  {
   "cell_type": "code",
   "execution_count": 6,
   "metadata": {},
   "outputs": [
    {
     "name": "stdout",
     "output_type": "stream",
     "text": [
      "Epoch 1/5\n",
      "60000/60000 [==============================] - 5s 80us/step - loss: 0.2581 - accuracy: 0.9254\n",
      "Epoch 2/5\n",
      "60000/60000 [==============================] - 5s 80us/step - loss: 0.1035 - accuracy: 0.9692\n",
      "Epoch 3/5\n",
      "60000/60000 [==============================] - 5s 77us/step - loss: 0.0685 - accuracy: 0.9792\n",
      "Epoch 4/5\n",
      "60000/60000 [==============================] - 4s 73us/step - loss: 0.0499 - accuracy: 0.9849\n",
      "Epoch 5/5\n",
      "60000/60000 [==============================] - 4s 73us/step - loss: 0.0376 - accuracy: 0.9891\n"
     ]
    },
    {
     "data": {
      "text/plain": [
       "<keras.callbacks.callbacks.History at 0x7f4813ebcac8>"
      ]
     },
     "execution_count": 6,
     "metadata": {},
     "output_type": "execute_result"
    }
   ],
   "source": [
    "network.fit(train_images, train_labels, epochs=5, batch_size=128)"
   ]
  },
  {
   "cell_type": "code",
   "execution_count": 7,
   "metadata": {
    "scrolled": true
   },
   "outputs": [
    {
     "name": "stdout",
     "output_type": "stream",
     "text": [
      "10000/10000 [==============================] - 1s 60us/step\n",
      "0.9796000123023987\n"
     ]
    }
   ],
   "source": [
    "test_loss, test_acc = network.evaluate(test_images, test_labels)\n",
    "print(test_acc)"
   ]
  },
  {
   "cell_type": "code",
   "execution_count": 8,
   "metadata": {},
   "outputs": [],
   "source": [
    "# Dataset subsetting/reshaping\n",
    "sstraini = train_images[0:100]\n",
    "sstrainl = train_labels[0:100]\n",
    "# SVM/AdaBoost do not use OHE for the labels -> coerce into ints\n",
    "sstrainl_int = [np.where(r==1)[0][0] for r in sstrainl]\n",
    "trainl_int = [np.where(r==1)[0][0] for r in train_labels]\n",
    "testl_int = [np.where(r==1)[0][0] for r in test_labels]"
   ]
  },
  {
   "cell_type": "code",
   "execution_count": 9,
   "metadata": {},
   "outputs": [],
   "source": [
    "# Random forrest\n",
    "from sklearn.ensemble import RandomForestRegressor\n",
    "rf = RandomForestRegressor(n_estimators = 10, random_state = 42)\n",
    "rf.fit(sstraini, sstrainl)\n",
    "predRF = rf.predict(test_images)"
   ]
  },
  {
   "cell_type": "code",
   "execution_count": 17,
   "metadata": {},
   "outputs": [],
   "source": [
    "# SVC: Support Vector Classification\n",
    "from sklearn import svm\n",
    "svc = svm.SVC()\n",
    "svc.fit(sstraini, sstrainl_int)\n",
    "predSVC = svc.predict(test_images)"
   ]
  },
  {
   "cell_type": "code",
   "execution_count": 35,
   "metadata": {},
   "outputs": [],
   "source": [
    "# AdaBoost\n",
    "from sklearn.ensemble import AdaBoostClassifier\n",
    "abc = AdaBoostClassifier(n_estimators = 50, learning_rate = 1)\n",
    "abc.fit(train_images, trainl_int)\n",
    "predADA = abc.predict(test_images)"
   ]
  },
  {
   "cell_type": "code",
   "execution_count": 12,
   "metadata": {},
   "outputs": [
    {
     "name": "stdout",
     "output_type": "stream",
     "text": [
      "Neural Net: 0.98\n",
      "Random Forest: 0.332\n",
      "Multi-class SVM: 0.656\n",
      "AdaBoost: 0.73\n"
     ]
    }
   ],
   "source": [
    "# Summary\n",
    "from sklearn.metrics import r2_score\n",
    "accNN = round(test_acc, 3)\n",
    "accRF = round(r2_score(test_labels, predRF), 3) #score method works but throws warnings\n",
    "accSVM = round(svc.score(test_images, testl_int), 3)\n",
    "accABC = round(abc.score(test_images, testl_int), 3)\n",
    "print(\"Neural Net:\", accNN)\n",
    "print(\"Random Forest:\", accRF)\n",
    "print(\"Multi-class SVM:\", accSVM)\n",
    "print(\"AdaBoost:\", accABC)"
   ]
  },
  {
   "cell_type": "code",
   "execution_count": 84,
   "metadata": {
    "scrolled": true
   },
   "outputs": [],
   "source": [
    "# Attempt to see where errors are\n",
    "index0 = [ i for i in range(len(testl_int)) if testl_int[i] == 0 ]\n",
    "index1 = [ i for i in range(len(testl_int)) if testl_int[i] == 1 ]\n",
    "index2 = [ i for i in range(len(testl_int)) if testl_int[i] == 2 ]\n",
    "index3 = [ i for i in range(len(testl_int)) if testl_int[i] == 3 ]\n",
    "index4 = [ i for i in range(len(testl_int)) if testl_int[i] == 4 ]\n",
    "index5 = [ i for i in range(len(testl_int)) if testl_int[i] == 5 ]\n",
    "index6 = [ i for i in range(len(testl_int)) if testl_int[i] == 6 ]\n",
    "index7 = [ i for i in range(len(testl_int)) if testl_int[i] == 7 ]\n",
    "index8 = [ i for i in range(len(testl_int)) if testl_int[i] == 8 ]\n",
    "index9 = [ i for i in range(len(testl_int)) if testl_int[i] == 9 ]\n",
    "label_dict = {'i0':index0, 'i1':index1, 'i2':index2, 'i3':index3, 'i4':index4, 'i5':index5, 'i6':index6, 'i7':index7, 'i8':index8, 'i9':index9}\n",
    "# Predictions\n",
    "rf_dict = {'i0' : list(), 'i1' : list(), 'i2' : list(), 'i3' : list(), 'i4' : list(), 'i5' : list(), 'i6' : list(), 'i7' : list(), 'i8' : list(), 'i9' : list()}\n",
    "svc_dict = {'i0' : list(), 'i1' : list(), 'i2' : list(), 'i3' : list(), 'i4' : list(), 'i5' : list(), 'i6' : list(), 'i7' : list(), 'i8' : list(), 'i9' : list()}\n",
    "ada_dict = {'i0' : list(), 'i1' : list(), 'i2' : list(), 'i3' : list(), 'i4' : list(), 'i5' : list(), 'i6' : list(), 'i7' : list(), 'i8' : list(), 'i9' : list()}\n",
    "\n",
    "for i in ['i0','i1','i2','i3','i4','i5','i6','i7','i8','i9']:\n",
    "    for j in range(0,10):\n",
    "        rf_dict[i].append(sum(predRF[label_dict[i]] == j))\n",
    "        svc_dict[i].append(sum(predSVC[label_dict[i]] == j))\n",
    "        ada_dict[i].append(sum(predADA[label_dict[i]] == j))\n"
   ]
  },
  {
   "cell_type": "code",
   "execution_count": 96,
   "metadata": {},
   "outputs": [
    {
     "name": "stdout",
     "output_type": "stream",
     "text": [
      "Random Forest:\n"
     ]
    },
    {
     "data": {
      "text/html": [
       "<div>\n",
       "<style scoped>\n",
       "    .dataframe tbody tr th:only-of-type {\n",
       "        vertical-align: middle;\n",
       "    }\n",
       "\n",
       "    .dataframe tbody tr th {\n",
       "        vertical-align: top;\n",
       "    }\n",
       "\n",
       "    .dataframe thead th {\n",
       "        text-align: right;\n",
       "    }\n",
       "</style>\n",
       "<table border=\"1\" class=\"dataframe\">\n",
       "  <thead>\n",
       "    <tr style=\"text-align: right;\">\n",
       "      <th></th>\n",
       "      <th>i0</th>\n",
       "      <th>i1</th>\n",
       "      <th>i2</th>\n",
       "      <th>i3</th>\n",
       "      <th>i4</th>\n",
       "      <th>i5</th>\n",
       "      <th>i6</th>\n",
       "      <th>i7</th>\n",
       "      <th>i8</th>\n",
       "      <th>i9</th>\n",
       "    </tr>\n",
       "  </thead>\n",
       "  <tbody>\n",
       "    <tr>\n",
       "      <th>0</th>\n",
       "      <td>[26, 855, 509, 617, 469, 685, 571, 551, 749, 706]</td>\n",
       "      <td>[1044, 1, 807, 996, 758, 628, 1015, 977, 628, ...</td>\n",
       "      <td>[611, 266, 131, 731, 438, 714, 314, 613, 481, ...</td>\n",
       "      <td>[536, 419, 651, 78, 599, 499, 448, 630, 609, 412]</td>\n",
       "      <td>[523, 707, 810, 727, 22, 828, 533, 573, 661, 211]</td>\n",
       "      <td>[325, 552, 575, 236, 310, 357, 340, 413, 414, ...</td>\n",
       "      <td>[487, 602, 568, 795, 126, 653, 64, 640, 547, 505]</td>\n",
       "      <td>[727, 639, 593, 580, 526, 881, 765, 83, 607, 181]</td>\n",
       "      <td>[670, 451, 469, 424, 483, 568, 434, 667, 147, ...</td>\n",
       "      <td>[459, 665, 606, 602, 227, 818, 329, 414, 454, ...</td>\n",
       "    </tr>\n",
       "    <tr>\n",
       "      <th>1</th>\n",
       "      <td>[29, 0, 0, 0, 0, 0, 0, 0, 0, 0]</td>\n",
       "      <td>[0, 75, 0, 0, 0, 0, 0, 0, 0, 0]</td>\n",
       "      <td>[0, 0, 0, 0, 0, 0, 0, 0, 0, 0]</td>\n",
       "      <td>[0, 0, 0, 1, 0, 0, 0, 0, 0, 0]</td>\n",
       "      <td>[0, 0, 0, 0, 8, 0, 0, 0, 0, 0]</td>\n",
       "      <td>[0, 0, 0, 0, 0, 0, 0, 0, 0, 0]</td>\n",
       "      <td>[0, 0, 0, 0, 0, 0, 4, 0, 0, 0]</td>\n",
       "      <td>[0, 0, 0, 0, 0, 0, 0, 2, 0, 0]</td>\n",
       "      <td>[0, 0, 0, 0, 0, 0, 0, 0, 5, 0]</td>\n",
       "      <td>[0, 0, 0, 0, 0, 0, 0, 0, 0, 0]</td>\n",
       "    </tr>\n",
       "    <tr>\n",
       "      <th>2</th>\n",
       "      <td>[0, 0, 0, 0, 0, 0, 0, 0, 0, 0]</td>\n",
       "      <td>[0, 0, 0, 0, 0, 0, 0, 0, 0, 0]</td>\n",
       "      <td>[0, 0, 0, 0, 0, 0, 0, 0, 0, 0]</td>\n",
       "      <td>[0, 0, 0, 0, 0, 0, 0, 0, 0, 0]</td>\n",
       "      <td>[0, 0, 0, 0, 0, 0, 0, 0, 0, 0]</td>\n",
       "      <td>[0, 0, 0, 0, 0, 0, 0, 0, 0, 0]</td>\n",
       "      <td>[0, 0, 0, 0, 0, 0, 0, 0, 0, 0]</td>\n",
       "      <td>[0, 0, 0, 0, 0, 0, 0, 0, 0, 0]</td>\n",
       "      <td>[0, 0, 0, 0, 0, 0, 0, 0, 0, 0]</td>\n",
       "      <td>[0, 0, 0, 0, 0, 0, 0, 0, 0, 0]</td>\n",
       "    </tr>\n",
       "    <tr>\n",
       "      <th>3</th>\n",
       "      <td>[0, 0, 0, 0, 0, 0, 0, 0, 0, 0]</td>\n",
       "      <td>[0, 0, 0, 0, 0, 0, 0, 0, 0, 0]</td>\n",
       "      <td>[0, 0, 0, 0, 0, 0, 0, 0, 0, 0]</td>\n",
       "      <td>[0, 0, 0, 0, 0, 0, 0, 0, 0, 0]</td>\n",
       "      <td>[0, 0, 0, 0, 0, 0, 0, 0, 0, 0]</td>\n",
       "      <td>[0, 0, 0, 0, 0, 0, 0, 0, 0, 0]</td>\n",
       "      <td>[0, 0, 0, 0, 0, 0, 0, 0, 0, 0]</td>\n",
       "      <td>[0, 0, 0, 0, 0, 0, 0, 0, 0, 0]</td>\n",
       "      <td>[0, 0, 0, 0, 0, 0, 0, 0, 0, 0]</td>\n",
       "      <td>[0, 0, 0, 0, 0, 0, 0, 0, 0, 0]</td>\n",
       "    </tr>\n",
       "    <tr>\n",
       "      <th>4</th>\n",
       "      <td>[0, 0, 0, 0, 0, 0, 0, 0, 0, 0]</td>\n",
       "      <td>[0, 0, 0, 0, 0, 0, 0, 0, 0, 0]</td>\n",
       "      <td>[0, 0, 0, 0, 0, 0, 0, 0, 0, 0]</td>\n",
       "      <td>[0, 0, 0, 0, 0, 0, 0, 0, 0, 0]</td>\n",
       "      <td>[0, 0, 0, 0, 0, 0, 0, 0, 0, 0]</td>\n",
       "      <td>[0, 0, 0, 0, 0, 0, 0, 0, 0, 0]</td>\n",
       "      <td>[0, 0, 0, 0, 0, 0, 0, 0, 0, 0]</td>\n",
       "      <td>[0, 0, 0, 0, 0, 0, 0, 0, 0, 0]</td>\n",
       "      <td>[0, 0, 0, 0, 0, 0, 0, 0, 0, 0]</td>\n",
       "      <td>[0, 0, 0, 0, 0, 0, 0, 0, 0, 0]</td>\n",
       "    </tr>\n",
       "    <tr>\n",
       "      <th>5</th>\n",
       "      <td>[0, 0, 0, 0, 0, 0, 0, 0, 0, 0]</td>\n",
       "      <td>[0, 0, 0, 0, 0, 0, 0, 0, 0, 0]</td>\n",
       "      <td>[0, 0, 0, 0, 0, 0, 0, 0, 0, 0]</td>\n",
       "      <td>[0, 0, 0, 0, 0, 0, 0, 0, 0, 0]</td>\n",
       "      <td>[0, 0, 0, 0, 0, 0, 0, 0, 0, 0]</td>\n",
       "      <td>[0, 0, 0, 0, 0, 0, 0, 0, 0, 0]</td>\n",
       "      <td>[0, 0, 0, 0, 0, 0, 0, 0, 0, 0]</td>\n",
       "      <td>[0, 0, 0, 0, 0, 0, 0, 0, 0, 0]</td>\n",
       "      <td>[0, 0, 0, 0, 0, 0, 0, 0, 0, 0]</td>\n",
       "      <td>[0, 0, 0, 0, 0, 0, 0, 0, 0, 0]</td>\n",
       "    </tr>\n",
       "    <tr>\n",
       "      <th>6</th>\n",
       "      <td>[0, 0, 0, 0, 0, 0, 0, 0, 0, 0]</td>\n",
       "      <td>[0, 0, 0, 0, 0, 0, 0, 0, 0, 0]</td>\n",
       "      <td>[0, 0, 0, 0, 0, 0, 0, 0, 0, 0]</td>\n",
       "      <td>[0, 0, 0, 0, 0, 0, 0, 0, 0, 0]</td>\n",
       "      <td>[0, 0, 0, 0, 0, 0, 0, 0, 0, 0]</td>\n",
       "      <td>[0, 0, 0, 0, 0, 0, 0, 0, 0, 0]</td>\n",
       "      <td>[0, 0, 0, 0, 0, 0, 0, 0, 0, 0]</td>\n",
       "      <td>[0, 0, 0, 0, 0, 0, 0, 0, 0, 0]</td>\n",
       "      <td>[0, 0, 0, 0, 0, 0, 0, 0, 0, 0]</td>\n",
       "      <td>[0, 0, 0, 0, 0, 0, 0, 0, 0, 0]</td>\n",
       "    </tr>\n",
       "    <tr>\n",
       "      <th>7</th>\n",
       "      <td>[0, 0, 0, 0, 0, 0, 0, 0, 0, 0]</td>\n",
       "      <td>[0, 0, 0, 0, 0, 0, 0, 0, 0, 0]</td>\n",
       "      <td>[0, 0, 0, 0, 0, 0, 0, 0, 0, 0]</td>\n",
       "      <td>[0, 0, 0, 0, 0, 0, 0, 0, 0, 0]</td>\n",
       "      <td>[0, 0, 0, 0, 0, 0, 0, 0, 0, 0]</td>\n",
       "      <td>[0, 0, 0, 0, 0, 0, 0, 0, 0, 0]</td>\n",
       "      <td>[0, 0, 0, 0, 0, 0, 0, 0, 0, 0]</td>\n",
       "      <td>[0, 0, 0, 0, 0, 0, 0, 0, 0, 0]</td>\n",
       "      <td>[0, 0, 0, 0, 0, 0, 0, 0, 0, 0]</td>\n",
       "      <td>[0, 0, 0, 0, 0, 0, 0, 0, 0, 0]</td>\n",
       "    </tr>\n",
       "    <tr>\n",
       "      <th>8</th>\n",
       "      <td>[0, 0, 0, 0, 0, 0, 0, 0, 0, 0]</td>\n",
       "      <td>[0, 0, 0, 0, 0, 0, 0, 0, 0, 0]</td>\n",
       "      <td>[0, 0, 0, 0, 0, 0, 0, 0, 0, 0]</td>\n",
       "      <td>[0, 0, 0, 0, 0, 0, 0, 0, 0, 0]</td>\n",
       "      <td>[0, 0, 0, 0, 0, 0, 0, 0, 0, 0]</td>\n",
       "      <td>[0, 0, 0, 0, 0, 0, 0, 0, 0, 0]</td>\n",
       "      <td>[0, 0, 0, 0, 0, 0, 0, 0, 0, 0]</td>\n",
       "      <td>[0, 0, 0, 0, 0, 0, 0, 0, 0, 0]</td>\n",
       "      <td>[0, 0, 0, 0, 0, 0, 0, 0, 0, 0]</td>\n",
       "      <td>[0, 0, 0, 0, 0, 0, 0, 0, 0, 0]</td>\n",
       "    </tr>\n",
       "    <tr>\n",
       "      <th>9</th>\n",
       "      <td>[0, 0, 0, 0, 0, 0, 0, 0, 0, 0]</td>\n",
       "      <td>[0, 0, 0, 0, 0, 0, 0, 0, 0, 0]</td>\n",
       "      <td>[0, 0, 0, 0, 0, 0, 0, 0, 0, 0]</td>\n",
       "      <td>[0, 0, 0, 0, 0, 0, 0, 0, 0, 0]</td>\n",
       "      <td>[0, 0, 0, 0, 0, 0, 0, 0, 0, 0]</td>\n",
       "      <td>[0, 0, 0, 0, 0, 0, 0, 0, 0, 0]</td>\n",
       "      <td>[0, 0, 0, 0, 0, 0, 0, 0, 0, 0]</td>\n",
       "      <td>[0, 0, 0, 0, 0, 0, 0, 0, 0, 0]</td>\n",
       "      <td>[0, 0, 0, 0, 0, 0, 0, 0, 0, 0]</td>\n",
       "      <td>[0, 0, 0, 0, 0, 0, 0, 0, 0, 0]</td>\n",
       "    </tr>\n",
       "  </tbody>\n",
       "</table>\n",
       "</div>"
      ],
      "text/plain": [
       "                                                  i0  \\\n",
       "0  [26, 855, 509, 617, 469, 685, 571, 551, 749, 706]   \n",
       "1                    [29, 0, 0, 0, 0, 0, 0, 0, 0, 0]   \n",
       "2                     [0, 0, 0, 0, 0, 0, 0, 0, 0, 0]   \n",
       "3                     [0, 0, 0, 0, 0, 0, 0, 0, 0, 0]   \n",
       "4                     [0, 0, 0, 0, 0, 0, 0, 0, 0, 0]   \n",
       "5                     [0, 0, 0, 0, 0, 0, 0, 0, 0, 0]   \n",
       "6                     [0, 0, 0, 0, 0, 0, 0, 0, 0, 0]   \n",
       "7                     [0, 0, 0, 0, 0, 0, 0, 0, 0, 0]   \n",
       "8                     [0, 0, 0, 0, 0, 0, 0, 0, 0, 0]   \n",
       "9                     [0, 0, 0, 0, 0, 0, 0, 0, 0, 0]   \n",
       "\n",
       "                                                  i1  \\\n",
       "0  [1044, 1, 807, 996, 758, 628, 1015, 977, 628, ...   \n",
       "1                    [0, 75, 0, 0, 0, 0, 0, 0, 0, 0]   \n",
       "2                     [0, 0, 0, 0, 0, 0, 0, 0, 0, 0]   \n",
       "3                     [0, 0, 0, 0, 0, 0, 0, 0, 0, 0]   \n",
       "4                     [0, 0, 0, 0, 0, 0, 0, 0, 0, 0]   \n",
       "5                     [0, 0, 0, 0, 0, 0, 0, 0, 0, 0]   \n",
       "6                     [0, 0, 0, 0, 0, 0, 0, 0, 0, 0]   \n",
       "7                     [0, 0, 0, 0, 0, 0, 0, 0, 0, 0]   \n",
       "8                     [0, 0, 0, 0, 0, 0, 0, 0, 0, 0]   \n",
       "9                     [0, 0, 0, 0, 0, 0, 0, 0, 0, 0]   \n",
       "\n",
       "                                                  i2  \\\n",
       "0  [611, 266, 131, 731, 438, 714, 314, 613, 481, ...   \n",
       "1                     [0, 0, 0, 0, 0, 0, 0, 0, 0, 0]   \n",
       "2                     [0, 0, 0, 0, 0, 0, 0, 0, 0, 0]   \n",
       "3                     [0, 0, 0, 0, 0, 0, 0, 0, 0, 0]   \n",
       "4                     [0, 0, 0, 0, 0, 0, 0, 0, 0, 0]   \n",
       "5                     [0, 0, 0, 0, 0, 0, 0, 0, 0, 0]   \n",
       "6                     [0, 0, 0, 0, 0, 0, 0, 0, 0, 0]   \n",
       "7                     [0, 0, 0, 0, 0, 0, 0, 0, 0, 0]   \n",
       "8                     [0, 0, 0, 0, 0, 0, 0, 0, 0, 0]   \n",
       "9                     [0, 0, 0, 0, 0, 0, 0, 0, 0, 0]   \n",
       "\n",
       "                                                  i3  \\\n",
       "0  [536, 419, 651, 78, 599, 499, 448, 630, 609, 412]   \n",
       "1                     [0, 0, 0, 1, 0, 0, 0, 0, 0, 0]   \n",
       "2                     [0, 0, 0, 0, 0, 0, 0, 0, 0, 0]   \n",
       "3                     [0, 0, 0, 0, 0, 0, 0, 0, 0, 0]   \n",
       "4                     [0, 0, 0, 0, 0, 0, 0, 0, 0, 0]   \n",
       "5                     [0, 0, 0, 0, 0, 0, 0, 0, 0, 0]   \n",
       "6                     [0, 0, 0, 0, 0, 0, 0, 0, 0, 0]   \n",
       "7                     [0, 0, 0, 0, 0, 0, 0, 0, 0, 0]   \n",
       "8                     [0, 0, 0, 0, 0, 0, 0, 0, 0, 0]   \n",
       "9                     [0, 0, 0, 0, 0, 0, 0, 0, 0, 0]   \n",
       "\n",
       "                                                  i4  \\\n",
       "0  [523, 707, 810, 727, 22, 828, 533, 573, 661, 211]   \n",
       "1                     [0, 0, 0, 0, 8, 0, 0, 0, 0, 0]   \n",
       "2                     [0, 0, 0, 0, 0, 0, 0, 0, 0, 0]   \n",
       "3                     [0, 0, 0, 0, 0, 0, 0, 0, 0, 0]   \n",
       "4                     [0, 0, 0, 0, 0, 0, 0, 0, 0, 0]   \n",
       "5                     [0, 0, 0, 0, 0, 0, 0, 0, 0, 0]   \n",
       "6                     [0, 0, 0, 0, 0, 0, 0, 0, 0, 0]   \n",
       "7                     [0, 0, 0, 0, 0, 0, 0, 0, 0, 0]   \n",
       "8                     [0, 0, 0, 0, 0, 0, 0, 0, 0, 0]   \n",
       "9                     [0, 0, 0, 0, 0, 0, 0, 0, 0, 0]   \n",
       "\n",
       "                                                  i5  \\\n",
       "0  [325, 552, 575, 236, 310, 357, 340, 413, 414, ...   \n",
       "1                     [0, 0, 0, 0, 0, 0, 0, 0, 0, 0]   \n",
       "2                     [0, 0, 0, 0, 0, 0, 0, 0, 0, 0]   \n",
       "3                     [0, 0, 0, 0, 0, 0, 0, 0, 0, 0]   \n",
       "4                     [0, 0, 0, 0, 0, 0, 0, 0, 0, 0]   \n",
       "5                     [0, 0, 0, 0, 0, 0, 0, 0, 0, 0]   \n",
       "6                     [0, 0, 0, 0, 0, 0, 0, 0, 0, 0]   \n",
       "7                     [0, 0, 0, 0, 0, 0, 0, 0, 0, 0]   \n",
       "8                     [0, 0, 0, 0, 0, 0, 0, 0, 0, 0]   \n",
       "9                     [0, 0, 0, 0, 0, 0, 0, 0, 0, 0]   \n",
       "\n",
       "                                                  i6  \\\n",
       "0  [487, 602, 568, 795, 126, 653, 64, 640, 547, 505]   \n",
       "1                     [0, 0, 0, 0, 0, 0, 4, 0, 0, 0]   \n",
       "2                     [0, 0, 0, 0, 0, 0, 0, 0, 0, 0]   \n",
       "3                     [0, 0, 0, 0, 0, 0, 0, 0, 0, 0]   \n",
       "4                     [0, 0, 0, 0, 0, 0, 0, 0, 0, 0]   \n",
       "5                     [0, 0, 0, 0, 0, 0, 0, 0, 0, 0]   \n",
       "6                     [0, 0, 0, 0, 0, 0, 0, 0, 0, 0]   \n",
       "7                     [0, 0, 0, 0, 0, 0, 0, 0, 0, 0]   \n",
       "8                     [0, 0, 0, 0, 0, 0, 0, 0, 0, 0]   \n",
       "9                     [0, 0, 0, 0, 0, 0, 0, 0, 0, 0]   \n",
       "\n",
       "                                                  i7  \\\n",
       "0  [727, 639, 593, 580, 526, 881, 765, 83, 607, 181]   \n",
       "1                     [0, 0, 0, 0, 0, 0, 0, 2, 0, 0]   \n",
       "2                     [0, 0, 0, 0, 0, 0, 0, 0, 0, 0]   \n",
       "3                     [0, 0, 0, 0, 0, 0, 0, 0, 0, 0]   \n",
       "4                     [0, 0, 0, 0, 0, 0, 0, 0, 0, 0]   \n",
       "5                     [0, 0, 0, 0, 0, 0, 0, 0, 0, 0]   \n",
       "6                     [0, 0, 0, 0, 0, 0, 0, 0, 0, 0]   \n",
       "7                     [0, 0, 0, 0, 0, 0, 0, 0, 0, 0]   \n",
       "8                     [0, 0, 0, 0, 0, 0, 0, 0, 0, 0]   \n",
       "9                     [0, 0, 0, 0, 0, 0, 0, 0, 0, 0]   \n",
       "\n",
       "                                                  i8  \\\n",
       "0  [670, 451, 469, 424, 483, 568, 434, 667, 147, ...   \n",
       "1                     [0, 0, 0, 0, 0, 0, 0, 0, 5, 0]   \n",
       "2                     [0, 0, 0, 0, 0, 0, 0, 0, 0, 0]   \n",
       "3                     [0, 0, 0, 0, 0, 0, 0, 0, 0, 0]   \n",
       "4                     [0, 0, 0, 0, 0, 0, 0, 0, 0, 0]   \n",
       "5                     [0, 0, 0, 0, 0, 0, 0, 0, 0, 0]   \n",
       "6                     [0, 0, 0, 0, 0, 0, 0, 0, 0, 0]   \n",
       "7                     [0, 0, 0, 0, 0, 0, 0, 0, 0, 0]   \n",
       "8                     [0, 0, 0, 0, 0, 0, 0, 0, 0, 0]   \n",
       "9                     [0, 0, 0, 0, 0, 0, 0, 0, 0, 0]   \n",
       "\n",
       "                                                  i9  \n",
       "0  [459, 665, 606, 602, 227, 818, 329, 414, 454, ...  \n",
       "1                     [0, 0, 0, 0, 0, 0, 0, 0, 0, 0]  \n",
       "2                     [0, 0, 0, 0, 0, 0, 0, 0, 0, 0]  \n",
       "3                     [0, 0, 0, 0, 0, 0, 0, 0, 0, 0]  \n",
       "4                     [0, 0, 0, 0, 0, 0, 0, 0, 0, 0]  \n",
       "5                     [0, 0, 0, 0, 0, 0, 0, 0, 0, 0]  \n",
       "6                     [0, 0, 0, 0, 0, 0, 0, 0, 0, 0]  \n",
       "7                     [0, 0, 0, 0, 0, 0, 0, 0, 0, 0]  \n",
       "8                     [0, 0, 0, 0, 0, 0, 0, 0, 0, 0]  \n",
       "9                     [0, 0, 0, 0, 0, 0, 0, 0, 0, 0]  "
      ]
     },
     "execution_count": 96,
     "metadata": {},
     "output_type": "execute_result"
    }
   ],
   "source": [
    "import pandas as pd\n",
    "# Column sums are total number of true_labels\n",
    "# Row sums are total predicted for each label\n",
    "print(\"Random Forest:\")\n",
    "#pd.DataFrame.from_dict(rf_dict)"
   ]
  },
  {
   "cell_type": "code",
   "execution_count": null,
   "metadata": {},
   "outputs": [],
   "source": [
    "print(\"SVM:\")\n",
    "pd.DataFrame.from_dict(svc_dict)"
   ]
  },
  {
   "cell_type": "code",
   "execution_count": null,
   "metadata": {},
   "outputs": [],
   "source": [
    "print(\"AdaBoost:\")\n",
    "pd.DataFrame.from_dict(ada_dict)"
   ]
  }
 ],
 "metadata": {
  "kernelspec": {
   "display_name": "Python 3",
   "language": "python",
   "name": "python3"
  },
  "language_info": {
   "codemirror_mode": {
    "name": "ipython",
    "version": 3
   },
   "file_extension": ".py",
   "mimetype": "text/x-python",
   "name": "python",
   "nbconvert_exporter": "python",
   "pygments_lexer": "ipython3",
   "version": "3.6.9"
  }
 },
 "nbformat": 4,
 "nbformat_minor": 2
}
